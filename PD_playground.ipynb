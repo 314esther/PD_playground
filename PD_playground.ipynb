{
 "cells": [
  {
   "cell_type": "code",
   "execution_count": 1,
   "id": "295232f5-aa00-423c-9c63-83e30ec04118",
   "metadata": {},
   "outputs": [],
   "source": [
    "import random\n",
    "\n",
    "random.seed(321)"
   ]
  },
  {
   "cell_type": "code",
   "execution_count": 2,
   "id": "cabb749c-17b0-4086-8e55-aa60d55ce5eb",
   "metadata": {},
   "outputs": [],
   "source": [
    "payment_table = {\"Reward\": 6,\n",
    "                 \"Sucker\": 0,\n",
    "                 \"Temptation\": 10,\n",
    "                 \"Punishment\": 2}"
   ]
  },
  {
   "cell_type": "code",
   "execution_count": 3,
   "id": "b2885c96-8d99-4df6-98b8-b799f173f333",
   "metadata": {},
   "outputs": [],
   "source": [
    "import math"
   ]
  },
  {
   "cell_type": "code",
   "execution_count": 4,
   "id": "d07f17ab-c961-4cc1-8e17-83713b612c72",
   "metadata": {},
   "outputs": [],
   "source": [
    "class Agent:\n",
    "    def __init__(self, wealth, name):\n",
    "        self.history = {}\n",
    "        self.initial_wealth = wealth\n",
    "        self.current_wealth = self.initial_wealth\n",
    "        self.decision = None\n",
    "        self.name = name\n",
    "        self.wealth_history = [self.initial_wealth]\n",
    "\n",
    "    def make_decision(self, cost2play):\n",
    "        next_game_selection = []\n",
    "        for key, value in payment_table.items():\n",
    "            if self.current_wealth+value-cost2play > 0:\n",
    "                next_game_selection.append(key)\n",
    "\n",
    "        #print('agent name:', self.name)\n",
    "        #print(\"current wealth:\", self.current_wealth)\n",
    "        #print(\"selection:\", next_game_selection)\n",
    "        if len(next_game_selection) >= 4:\n",
    "            #All outcomes would allow survival\n",
    "            #print(\">= 4\")\n",
    "            return \"C\" if random.random() < 0.5 else \"D\"\n",
    "        elif len(next_game_selection) == 3:\n",
    "            #This means that Temptation, Reward, and Punishment would allow survival. So defection guarantees survival.\n",
    "            #print(\"==3\")\n",
    "            return \"D\"\n",
    "        elif len(next_game_selection) == 2:\n",
    "            #This means that Temptation and Reward would allow survival\n",
    "            #print(\"==2\")\n",
    "            return \"D\"\n",
    "        elif len(next_game_selection) == 1:\n",
    "            #This means the only option is Temptation, which is achieved only through defection\n",
    "            #print(\"==1\")\n",
    "            return \"D\"\n",
    "        else:\n",
    "            #print(\"==0\")\n",
    "            return \"C\" if random.random() < 0.5 else \"D\"    \n",
    "          \n",
    "            \n",
    "        '''\n",
    "        #How many turns could you survive playing \"C\" in the worst case scenario\n",
    "        \n",
    "        if cost2play-payment_table[\"Sucker\"] <= 0:\n",
    "            coop_risk = 0\n",
    "        else:\n",
    "            coop_risk = 1/(self.current_wealth/(cost2play-payment_table[\"Sucker\"]))\n",
    "        \n",
    "        #How many turns could you survive playing \"D\" in the worst case scenario\n",
    "        if (cost2play-payment_table[\"Punishment\"] <= 0):\n",
    "            defect_risk = 0     \n",
    "        else:\n",
    "            defect_risk = 1/(self.current_wealth/(cost2play-payment_table[\"Punishment\"]))\n",
    "\n",
    "        if coop_risk < random.random():\n",
    "            decision = \"C\"\n",
    "        else:\n",
    "            decision = \"D\"\n",
    "        \n",
    "        return decision\n",
    "        '''\n",
    "\n",
    "    def receive_payment(self, outcome):\n",
    "        self.current_wealth += payment_table[outcome]\n",
    "    \n",
    "    def update_history(self, opponent, outcome):\n",
    "        if opponent in self.history:\n",
    "            self.history[opponent].append(outcome)\n",
    "        else:\n",
    "            self.history[opponent] = [outcome]\n",
    "\n",
    "    def update_wealth_history(self):\n",
    "        self.wealth_history.append(self.current_wealth)\n",
    "\n",
    "    def pay2play(self, cost):\n",
    "        self.current_wealth = self.current_wealth-cost"
   ]
  },
  {
   "cell_type": "code",
   "execution_count": 144,
   "id": "1a9314c5-f73e-483a-97ad-3c97138bc6e8",
   "metadata": {},
   "outputs": [
    {
     "data": {
      "text/plain": [
       "0"
      ]
     },
     "execution_count": 144,
     "metadata": {},
     "output_type": "execute_result"
    }
   ],
   "source": [
    "len([])"
   ]
  },
  {
   "cell_type": "code",
   "execution_count": 5,
   "id": "e5ea0d38-f5e5-48e8-b7a5-8884f74dcf0b",
   "metadata": {},
   "outputs": [],
   "source": [
    "class PD:\n",
    "    def __init__(self, cost2play):\n",
    "        self.cost2play = cost2play\n",
    "\n",
    "    def play(self, agent_1, agent_2):\n",
    "        #print('Agent 1', agent_1.name)\n",
    "        #print('Agent 2', agent_2.name)\n",
    "        decision_1 = agent_1.make_decision(self.cost2play)\n",
    "        decision_2 = agent_2.make_decision(self.cost2play)\n",
    "        outcome_1, outcome_2 = self.calc_outcome(decision_1, decision_2)\n",
    "        #print('Decision 1', decision_1)\n",
    "        #print('Decision 2', decision_2)\n",
    "        #print('########################')\n",
    "        agent_1.receive_payment(outcome_1)\n",
    "        agent_2.receive_payment(outcome_2)\n",
    "        agent_1.update_history(agent_2.name, outcome_1)\n",
    "        agent_2.update_history(agent_1.name, outcome_2)\n",
    "        agent_1.pay2play(self.cost2play)\n",
    "        agent_2.pay2play(self.cost2play)\n",
    "        agent_1.update_wealth_history()\n",
    "        agent_2.update_wealth_history()\n",
    "        return outcome_1\n",
    "\n",
    "    def calc_outcome(self, decision_1, decision_2):\n",
    "        if decision_1+decision_2 == \"CC\":\n",
    "            return \"Reward\", \"Reward\"\n",
    "        elif decision_1+decision_2 == \"DD\":\n",
    "            return \"Punishment\", \"Punishment\"\n",
    "        elif decision_1+decision_2 == \"CD\":\n",
    "            return \"Sucker\", \"Temptation\"\n",
    "        elif decision_1+decision_2 == \"DC\":\n",
    "            return \"Temptation\", \"Sucker\""
   ]
  },
  {
   "cell_type": "code",
   "execution_count": 6,
   "id": "4ee409df-db17-4db0-bda3-99b071265c94",
   "metadata": {},
   "outputs": [],
   "source": [
    "agent1 = Agent(3, \"agent1\")\n",
    "agent2 = Agent(2, \"agent2\")\n",
    "agent3 = Agent(2, \"agent3\")\n",
    "agent4 = Agent(30, \"agent4\")\n",
    "\n",
    "game = PD(2)\n",
    "\n",
    "for x in range(10):\n",
    "    if agent1.current_wealth <= 0 and agent2.current_wealth <= 0:\n",
    "        game.play(agent1, agent2)\n",
    "    if agent1.current_wealth <= 0 and agent3.current_wealth <= 0:   \n",
    "        game.play(agent1, agent3)\n",
    "    if agent1.current_wealth <= 0 and agent4.current_wealth <= 0:\n",
    "        game.play(agent1, agent4)\n",
    "    if agent2.current_wealth <= 0 and agent3.current_wealth <= 0:\n",
    "        game.play(agent2, agent3)\n",
    "    if agent2.current_wealth <= 0 and agent4.current_wealth <= 0:\n",
    "        game.play(agent2, agent4)\n",
    "    if agent3.current_wealth <= 0 and agent4.current_wealth <= 0:\n",
    "        game.play(agent3, agent4)\n",
    " "
   ]
  },
  {
   "cell_type": "code",
   "execution_count": 474,
   "id": "f1788a70-9880-4dc7-8b59-e54117900f7c",
   "metadata": {},
   "outputs": [
    {
     "data": {
      "text/plain": [
       "3"
      ]
     },
     "execution_count": 474,
     "metadata": {},
     "output_type": "execute_result"
    }
   ],
   "source": [
    "agent1.current_wealth"
   ]
  },
  {
   "cell_type": "code",
   "execution_count": 316,
   "id": "992d3743-8f1f-4689-a42e-40a9963dee0c",
   "metadata": {},
   "outputs": [
    {
     "data": {
      "text/plain": [
       "0"
      ]
     },
     "execution_count": 316,
     "metadata": {},
     "output_type": "execute_result"
    }
   ],
   "source": [
    "agent2.current_wealth"
   ]
  },
  {
   "cell_type": "code",
   "execution_count": 317,
   "id": "b92fdfdd-fa8f-432d-ac40-6b77133c55a3",
   "metadata": {},
   "outputs": [
    {
     "data": {
      "text/plain": [
       "0"
      ]
     },
     "execution_count": 317,
     "metadata": {},
     "output_type": "execute_result"
    }
   ],
   "source": [
    "agent3.current_wealth"
   ]
  },
  {
   "cell_type": "code",
   "execution_count": 318,
   "id": "304a70d6-7797-4cb0-82ed-ad579636aac0",
   "metadata": {},
   "outputs": [
    {
     "data": {
      "text/plain": [
       "31"
      ]
     },
     "execution_count": 318,
     "metadata": {},
     "output_type": "execute_result"
    }
   ],
   "source": [
    "agent4.current_wealth"
   ]
  },
  {
   "cell_type": "code",
   "execution_count": null,
   "id": "122a2828-a595-4015-a28f-83d2987f4242",
   "metadata": {},
   "outputs": [],
   "source": [
    "##################################\n",
    "#####      ANALYSIS   ############\n",
    "##################################"
   ]
  },
  {
   "cell_type": "code",
   "execution_count": 7,
   "id": "d32a2122-00a7-40b6-82a8-cb95127d4709",
   "metadata": {},
   "outputs": [],
   "source": [
    "#Games to test: 0,1,2,2.3,2.5,2.7,2.8,3,3\n",
    "game = PD(2)"
   ]
  },
  {
   "cell_type": "code",
   "execution_count": 948,
   "id": "bc4f7de8-695c-4b8d-b09c-4d2547e26f36",
   "metadata": {},
   "outputs": [],
   "source": [
    "#Splits to test:\n",
    "#Up ramp\n",
    "#[100,200,300,400]\n",
    "\n",
    "#Down ramp\n",
    "#[400,300,200,100]\n",
    "\n",
    "#V Shape\n",
    "#[100,400,400,100]\n",
    "\n",
    "#^ Shape\n",
    "#[400,100,100,400]\n",
    "\n",
    "#-_-_\n",
    "#[400,100,400,100]\n",
    "\n",
    "#_-_-\n",
    "#[100,400,100,400]\n",
    "\n",
    "#__--\n",
    "#[100,100,400,400]\n",
    "\n",
    "#--__\n",
    "#[400,400,100,100]\n",
    "\n",
    "#Extreme Up Ramp\n",
    "#[10,100,390,500]\n",
    "\n",
    "#Extreme Down Ramp\n",
    "#[500,390,100,10]\n",
    "\n",
    "#Low Only\n",
    "#[1000,0,0,0]\n",
    "\n",
    "#Mid_Low Only\n",
    "#[0,1000,0,0]\n",
    "\n",
    "#Mid_High Only\n",
    "#[0,0,1000,0]\n",
    "\n",
    "#High Only\n",
    "#[0,0,0,1000]"
   ]
  },
  {
   "cell_type": "code",
   "execution_count": 8,
   "id": "7b64ef45-f82c-439a-b316-47d563e05d74",
   "metadata": {},
   "outputs": [],
   "source": [
    "histogram_dict={\"Up Ramp\":[100,200,300,400],\n",
    "                \"Down Ramp\":[400,300,200,100],\n",
    "                \"Peak Shape\":[100,400,400,100],\n",
    "                \"V Shape\":[400,100,100,400],\n",
    "                \"-_-_ Shape\":[400,100,400,100],\n",
    "                \"_-_- Shape\":[100,400,100,400],\n",
    "                \"__-- Shape\":[100,100,400,400],\n",
    "                \"--__ Shape\":[400,400,100,100],\n",
    "                \"Extreme Up Ramp\":[10,100,390,500],\n",
    "                \"Extreme Down Ramp\":[500,390,100,10],\n",
    "                \"Low Only\":[1000,0,0,0],\n",
    "                \"Mid_Low Only\":[0,1000,0,0],\n",
    "                \"Mid_High_Only\":[0,0,1000,0],\n",
    "                \"High Only\": [0,0,0,1000]\n",
    "}"
   ]
  },
  {
   "cell_type": "code",
   "execution_count": 6,
   "id": "ddaf9eb1-bb93-4d0a-95d9-ba2751b062fd",
   "metadata": {},
   "outputs": [],
   "source": [
    "#split = [10,300,600,90]\n",
    "\n",
    "#assert(sum(split)==1000)"
   ]
  },
  {
   "cell_type": "code",
   "execution_count": 9,
   "id": "6dce3736-2b8a-4e18-bc47-bed36d838034",
   "metadata": {},
   "outputs": [],
   "source": [
    "def create_agents(split):\n",
    "    agents = []\n",
    "    for i in range(split[0]):\n",
    "        agents.append(Agent(1,\"low_\"+str(i)))\n",
    "    for i in range(split[1]):\n",
    "        agents.append(Agent(2, \"mid_low_\"+str(i)))\n",
    "    for i in range(split[2]):\n",
    "        agents.append(Agent(6, \"mid_high_\"+str(i)))\n",
    "    for i in range(split[3]):\n",
    "        agents.append(Agent(10, \"high_\"+str(i)))\n",
    "    return agents"
   ]
  },
  {
   "cell_type": "code",
   "execution_count": 10,
   "id": "4f676862-88f5-4a09-98f7-e0e8112e4b87",
   "metadata": {},
   "outputs": [],
   "source": [
    "import itertools"
   ]
  },
  {
   "cell_type": "code",
   "execution_count": 244,
   "id": "2e622b60-4664-4575-a325-006902d346dc",
   "metadata": {},
   "outputs": [
    {
     "data": {
      "text/plain": [
       "[1]"
      ]
     },
     "execution_count": 244,
     "metadata": {},
     "output_type": "execute_result"
    }
   ],
   "source": [
    "l = [1,2,3]\n",
    "l[0:1]"
   ]
  },
  {
   "cell_type": "code",
   "execution_count": 11,
   "id": "3a1d0754-8f44-4a64-a55c-ba1bc9d6cb22",
   "metadata": {},
   "outputs": [],
   "source": [
    "def run_game(agents, our_game):\n",
    "    agent_indices = list(range(len(agents)))\n",
    "    random.shuffle(agent_indices)\n",
    "\n",
    "    number_of_rounds = int(len(agents)/2*(len(agents)-1))\n",
    "    outcomes = []\n",
    "    game_count = 0\n",
    "    for j in range(200):\n",
    "        for i in range(number_of_rounds):\n",
    "            top = agent_indices[:int(len(agent_indices)/2)]\n",
    "            bottom = agent_indices[int(len(agent_indices)/2):]\n",
    "            for idx, top_agent in enumerate(top):\n",
    "                if agents[top_agent].current_wealth > 0 and agents[bottom[idx]].current_wealth > 0:\n",
    "                    outcome = our_game.play(agents[top_agent], agents[bottom[idx]])\n",
    "                    outcomes.append(outcome+\"_round_\"+str(i))\n",
    "                    game_count += 1\n",
    "            agent_indices = agent_indices[0:1]+agent_indices[-1:]+agent_indices[1:-1]\n",
    "        \n",
    "            \n",
    "    '''\n",
    "    pairs = list(itertools.combinations(list(range(len(agents))), 2))\n",
    "    random.shuffle(pairs)\n",
    "    game_count = 0\n",
    "    outcomes = []\n",
    "    for x in range(1):\n",
    "        for pair in pairs:\n",
    "            #print('Pair', pair)\n",
    "            #print('Agent '+str(pair[0]), agents[pair[0]].current_wealth)\n",
    "            #print('Agent '+str(pair[1]), agents[pair[1]].current_wealth)\n",
    "            if agents[pair[0]].current_wealth > 0 and agents[pair[1]].current_wealth > 0:\n",
    "                outcome = our_game.play(agents[pair[0]], agents[pair[1]])\n",
    "                #print('After game')\n",
    "                #print('Agent '+str(pair[0]), agents[pair[0]].current_wealth)\n",
    "                #print('Agent '+str(pair[1]), agents[pair[1]].current_wealth)\n",
    "                #print('')\n",
    "                outcomes.append(outcome)\n",
    "                game_count += 1\n",
    "    '''\n",
    "    return game_count, outcomes\n",
    "    "
   ]
  },
  {
   "cell_type": "code",
   "execution_count": 12,
   "id": "21d2fe94-8e1b-4cbd-b982-f92121abdfbb",
   "metadata": {},
   "outputs": [],
   "source": [
    "def calc_avg_for_each(agents,splits):\n",
    "    low_wealth_avg = 0\n",
    "    mid_low_wealth_avg = 0\n",
    "    mid_high_wealth_avg = 0\n",
    "    high_wealth_avg = 0\n",
    "    for agent in agents[:splits[0]]:\n",
    "        low_wealth_avg += agent.current_wealth\n",
    "    if splits[0]:\n",
    "        low_wealth_avg = low_wealth_avg/splits[0]\n",
    "    for agent in agents[splits[0]:sum(splits[:2])]:\n",
    "        mid_low_wealth_avg += agent.current_wealth\n",
    "    if (sum(splits[:2])-sum(splits[:1])):\n",
    "        mid_low_wealth_avg = mid_low_wealth_avg/(sum(splits[:2])-sum(splits[:1]))\n",
    "    for agent in agents[sum(splits[:2]):sum(splits[:3])]:\n",
    "        mid_high_wealth_avg += agent.current_wealth\n",
    "    if (sum(splits[:3])-sum(splits[:2])):\n",
    "        mid_high_wealth_avg = mid_high_wealth_avg/(sum(splits[:3])-sum(splits[:2]))\n",
    "    for agent in agents[sum(splits[:3]):]:\n",
    "        high_wealth_avg += agent.current_wealth\n",
    "    if (sum(splits)-sum(splits[:3])):\n",
    "        high_wealth_avg = high_wealth_avg/(sum(splits)-sum(splits[:3]))\n",
    "\n",
    "    return low_wealth_avg,mid_low_wealth_avg,mid_high_wealth_avg,high_wealth_avg"
   ]
  },
  {
   "cell_type": "code",
   "execution_count": 13,
   "id": "ec459a30-b32c-467a-9a4f-ce39db07de8e",
   "metadata": {},
   "outputs": [],
   "source": [
    "def remove_zeroed_agents(agents, splits):\n",
    "    temp_splits = splits.copy()\n",
    "    non_zero_agents = []\n",
    "    non_zero_splits = []\n",
    "    for agent in agents:\n",
    "        if agent.current_wealth > 0:\n",
    "            non_zero_agents.append(agent)\n",
    "        else:\n",
    "            if agent.name.startswith(\"low\"):\n",
    "                temp_splits[0] = temp_splits[0]-1\n",
    "            elif agent.name.startswith(\"mid_low\"):\n",
    "                temp_splits[1] = temp_splits[1]-1\n",
    "            elif agent.name.startswith(\"mid_high\"):\n",
    "                temp_splits[2] = temp_splits[2]-1\n",
    "            elif agent.name.startswith(\"high\"):\n",
    "                temp_splits[3] = temp_splits[3]-1\n",
    "    non_zero_splits = temp_splits\n",
    "    return non_zero_agents, non_zero_splits"
   ]
  },
  {
   "cell_type": "code",
   "execution_count": 12,
   "id": "28b4c3a3-0537-43e3-a91b-8dc18aeb9559",
   "metadata": {},
   "outputs": [],
   "source": [
    "def count_zeroed_agents(agents):\n",
    "    low_zeroed_count = 0\n",
    "    mid_low_zeroed_count = 0\n",
    "    mid_high_zeroed_count = 0\n",
    "    high_zeroed_count = 0\n",
    "    for agent in agents:\n",
    "        if agent.current_wealth <= 0:\n",
    "            if agent.name.startswith(\"low\"):\n",
    "                low_zeroed_count += 1\n",
    "            elif agent.name.startswith(\"mid_low\"):\n",
    "                mid_low_zeroed_count += 1\n",
    "            elif agent.name.startswith(\"mid_high\"):\n",
    "                mid_high_zeroed_count += 1\n",
    "            elif agent.name.startswith(\"high\"):\n",
    "                high_zeroed_count += 1\n",
    "    return low_zeroed_count, mid_low_zeroed_count, mid_high_zeroed_count, high_zeroed_count \n",
    "    "
   ]
  },
  {
   "cell_type": "code",
   "execution_count": 14,
   "id": "cf066daf-e5f2-41a1-a628-77bb99d4ff8d",
   "metadata": {},
   "outputs": [],
   "source": [
    "def count_coops(outcomes):\n",
    "    count = 0\n",
    "    strict_count = 0\n",
    "    for outcome in outcomes:\n",
    "        if not outcome.startswith(\"Punishment\"):\n",
    "            count += 1\n",
    "        if outcome.startswith(\"Reward\"):\n",
    "            strict_count += 1\n",
    "    return count, strict_count"
   ]
  },
  {
   "cell_type": "code",
   "execution_count": 15,
   "id": "db5dc314-97d1-4159-ad80-7aebf0e33037",
   "metadata": {},
   "outputs": [],
   "source": [
    "def count_defections(outcomes):\n",
    "    count = 0\n",
    "    strict_count = 0\n",
    "    for outcome in outcomes:\n",
    "        if not outcome.startswith(\"Reward\"):\n",
    "            count += 1\n",
    "        if outcome.startswith(\"Punishment\"):\n",
    "            strict_count += 1\n",
    "    return count, strict_count"
   ]
  },
  {
   "cell_type": "code",
   "execution_count": 16,
   "id": "24953e27-faa3-4152-9ccb-42e99fd32242",
   "metadata": {},
   "outputs": [],
   "source": [
    "def print_statistics(cost, experiment_name, game_agents, experiment_split, number_of_games_played, game_outcomes, write2file=True):   \n",
    "    print(\"Experiment Name:\", experiment_name)\n",
    "    print(\"Cost 2 Play:\", cost)\n",
    "    temp_experiment_split=[]\n",
    "    temp_experiment_split = experiment_split.copy()\n",
    "    low_wealth_avg,mid_low_wealth_avg,mid_high_wealth_avg,high_wealth_avg = calc_avg_for_each(game_agents, experiment_split)\n",
    "    print(\"Low Wealth Average:\", low_wealth_avg)\n",
    "    print(\"Mid Low Wealth Average:\", mid_low_wealth_avg)\n",
    "    print(\"Mid High Wealth Average:\", mid_high_wealth_avg)\n",
    "    print(\"High Wealth Average:\", high_wealth_avg)\n",
    "    print(\"\")\n",
    "    print(\"Difference between High and Low:\", high_wealth_avg-low_wealth_avg)\n",
    "    print(\"\")\n",
    "    print(\"\")\n",
    "    non_zero_game_agents, non_zero_experiment_splits = remove_zeroed_agents(game_agents, temp_experiment_split)\n",
    "    low_wealth_avg_no_zeros,mid_low_wealth_avg_no_zeros,mid_high_wealth_avg_no_zeros,high_wealth_avg_no_zeros = calc_avg_for_each(non_zero_game_agents, non_zero_experiment_splits)\n",
    "    print(\"DISREGARDING AGENTS THAT ZEROED\")\n",
    "    print(\"Low Wealth Average:\", low_wealth_avg_no_zeros)\n",
    "    print(\"Mid Low Wealth Average:\", mid_low_wealth_avg_no_zeros)\n",
    "    print(\"Mid High Wealth Average:\", mid_high_wealth_avg_no_zeros)\n",
    "    print(\"High Wealth Average:\", high_wealth_avg_no_zeros)\n",
    "    print(\"\")\n",
    "    print(\"Difference between High and Low:\", high_wealth_avg_no_zeros-low_wealth_avg_no_zeros)\n",
    "    print(\"\")\n",
    "    print(\"\")\n",
    "    print(\"ZEROED AGENT COUNTS\")\n",
    "    low_zeroed_count, mid_low_zeroed_count, mid_high_zeroed_count, high_zeroed_count = count_zeroed_agents(game_agents)\n",
    "    print(\"Total zeroed agents:\", low_zeroed_count + mid_low_zeroed_count + mid_high_zeroed_count + high_zeroed_count)\n",
    "    print(\"\")\n",
    "    print(\"Low zeroed agents:\", low_zeroed_count)\n",
    "    if experiment_split[0]:\n",
    "        print(\"Percent Low zeroed agents:\", low_zeroed_count/experiment_split[0])\n",
    "    else:\n",
    "        print(\"Percent Low zeroed agents:\", 0)\n",
    "    print(\"Mid low zeroed agents:\", mid_low_zeroed_count)\n",
    "    if experiment_split[1]:\n",
    "        print(\"Percent Mid low zeroed agents:\", mid_low_zeroed_count/experiment_split[1])\n",
    "    else:\n",
    "        print(\"Percent Mid low zeroed agents:\", 0)\n",
    "    print(\"Mid High zeroed agents:\", mid_high_zeroed_count)\n",
    "    if experiment_split[2]:\n",
    "        print(\"Percent Mid high zeroed agents:\", mid_high_zeroed_count/experiment_split[2])\n",
    "    else:\n",
    "       print(\"Percent Mid high zeroed agents:\", 0) \n",
    "    print(\"High zeroed agents:\", high_zeroed_count)\n",
    "    if experiment_split[3]:\n",
    "        print(\"Percent High zeroed agents:\", mid_high_zeroed_count/experiment_split[3])\n",
    "    else:\n",
    "        print(\"Percent High zeroed agents:\", 0)\n",
    "    print(\"\")\n",
    "    print(\"\")\n",
    "    print(\"COOPERATION\")\n",
    "    num_coops, num_strict_coops = count_coops(game_outcomes)\n",
    "    print(\"Number of Games that included Cooperation:\", num_coops)\n",
    "    print(\"Percentage of games that included a Cooperation:\", num_coops/number_of_games_played)\n",
    "    print(\"Number of Reward states:\", num_strict_coops)\n",
    "    print(\"Percentage of games with Reward state:\", num_strict_coops/number_of_games_played)\n",
    "    print(\"\")\n",
    "    print(\"DEFECTION\") \n",
    "    num_defects, num_strict_defects = count_defections(game_outcomes)\n",
    "    print(\"Number of Games that included Defection:\", num_defects)\n",
    "    print(\"Percentage of games that included a Defection:\", num_defects/number_of_games_played)\n",
    "    print(\"Number of Punishment states:\", num_strict_defects)\n",
    "    print(\"Percentage of games with Punishment state:\", num_strict_defects/number_of_games_played)\n",
    "    print(\"\")\n",
    "\n",
    "    if write2file:\n",
    "        print(\"Writing to file:\",experiment_name+\"_\"+str(cost)+\".org\") \n",
    "        f = open(experiment_name+\"_\"+str(cost)+\".org\", \"a\")\n",
    "        f.write(\"Experiment Name: \"+experiment_name+\"\\n\")\n",
    "        f.write(\"Cost 2 Play:\"+str(cost)+\"\\n\")\n",
    "        f.write(\"Low Wealth Average: \"+str(low_wealth_avg)+\"\\n\")\n",
    "        f.write(\"Mid Low Wealth Average: \"+str(mid_low_wealth_avg)+\"\\n\")\n",
    "        f.write(\"Mid High Wealth Average: \"+str(mid_high_wealth_avg)+\"\\n\")\n",
    "        f.write(\"High Wealth Average: \"+str(high_wealth_avg)+\"\\n\")\n",
    "        f.write(\"\\n\")\n",
    "        f.write(\"Difference between High and Low: \"+str(high_wealth_avg-low_wealth_avg)+\"\\n\")\n",
    "        f.write(\"\\n\")\n",
    "        f.write(\"\\n\")\n",
    "        f.write(\"DISREGARDING AGENTS THAT ZEROED\\n\")\n",
    "        f.write(\"Low Wealth Average: \"+str(low_wealth_avg_no_zeros)+\"\\n\")\n",
    "        f.write(\"Mid Low Wealth Average: \"+str(mid_low_wealth_avg_no_zeros)+\"\\n\")\n",
    "        f.write(\"Mid High Wealth Average: \"+str(mid_high_wealth_avg_no_zeros)+\"\\n\")\n",
    "        f.write(\"High Wealth Average: \"+str(high_wealth_avg_no_zeros)+\"\\n\")\n",
    "        f.write(\"\\n\")\n",
    "        f.write(\"Difference between High and Low: \"+str(high_wealth_avg_no_zeros-low_wealth_avg_no_zeros)+\"\\n\")\n",
    "        f.write(\"\\n\")\n",
    "        f.write(\"\\n\")\n",
    "        f.write(\"ZEROED AGENT COUNTS\\n\")\n",
    "        f.write(\"Total zeroed agents: \"+str(low_zeroed_count + mid_low_zeroed_count + mid_high_zeroed_count + high_zeroed_count)+\"\\n\")\n",
    "        f.write(\"\\n\")\n",
    "        f.write(\"Low zeroed agents: \"+str(low_zeroed_count)+\"\\n\")\n",
    "        if experiment_split[0]:\n",
    "            f.write(\"Percent Low zeroed agents: \"+str(low_zeroed_count/experiment_split[0])+\"\\n\")\n",
    "        else:\n",
    "            f.write(\"Percent Low zeroed agents: 0\\n\")\n",
    "        f.write(\"Mid low zeroed agents: \"+str(mid_low_zeroed_count)+\"\\n\")\n",
    "        if experiment_split[1]:\n",
    "            f.write(\"Percent Mid low zeroed agents: \"+str(mid_low_zeroed_count/experiment_split[1])+\"\\n\")\n",
    "        else:\n",
    "            f.write(\"Percent Mid low zeroed agents: 0\\n\")\n",
    "        f.write(\"Mid High zeroed agents: \"+str(mid_high_zeroed_count)+\"\\n\")\n",
    "        if experiment_split[2]:\n",
    "            f.write(\"Percent Mid High zeroed agents: \"+str(mid_high_zeroed_count/experiment_split[2])+\"\\n\")\n",
    "        else:\n",
    "            f.write(\"Percent Mid High zeroed agents: 0\\n\")\n",
    "        f.write(\"High zeroed agents: \"+str(high_zeroed_count)+\"\\n\")\n",
    "        if experiment_split[3]:\n",
    "            f.write(\"Percent High zeroed agents: \"+str(high_zeroed_count/experiment_split[3])+\"\\n\")\n",
    "        else:\n",
    "            f.write(\"Percent High zeroed agents: 0\\n\")\n",
    "        f.write(\"\\n\")\n",
    "        f.write(\"\\n\")\n",
    "        f.write(\"COOPERATION\\n\")\n",
    "        f.write(\"Number of Games that included Cooperation: \"+str(num_coops)+\"\\n\")\n",
    "        f.write(\"Percentage of games that included a Cooperation \"+str(num_coops/number_of_games_played)+\"\\n\")\n",
    "        f.write(\"Number of Reward states: \"+str(num_strict_coops)+\"\\n\")\n",
    "        f.write(\"Percentage of games with Reward state: \"+str(num_strict_coops/number_of_games_played)+\"\\n\")\n",
    "        f.write(\"\\n\")\n",
    "        f.write(\"DEFECTION\\n\") \n",
    "        f.write(\"Number of Games that included Defection: \"+str(num_defects)+\"\\n\")\n",
    "        f.write(\"Percentage of games that included a Defection: \"+str(num_defects/number_of_games_played)+\"\\n\")\n",
    "        f.write(\"Number of Punishment states: \"+str(num_strict_defects)+\"\\n\")\n",
    "        f.write(\"Percentage of games with Punishment state: \"+str(num_strict_defects/number_of_games_played)+\"\\n\")\n",
    "        f.write(\"\\n\")"
   ]
  },
  {
   "cell_type": "code",
   "execution_count": 17,
   "id": "36746488-2438-4ed0-b40e-536e4c017bef",
   "metadata": {},
   "outputs": [],
   "source": [
    "def run_analysis(histogram_dict, cost2play_list):\n",
    "    for cost in cost2play_list:\n",
    "        game = PD(cost)\n",
    "\n",
    "        for experiment_name, experiment_split in histogram_dict.items():\n",
    "            game_agents = create_agents(experiment_split)\n",
    "            number_of_games_played, game_outcomes = run_game(game_agents, game)\n",
    "\n",
    "            print_statistics(cost,experiment_name,game_agents, experiment_split, number_of_games_played, game_outcomes, write2file=False)\n",
    "            #print(game_outcomes)\n",
    "            #print(game_agents[0].name)\n",
    "            #print(game_agents[0].history)\n",
    "            #print(game_agents[0].wealth_history)"
   ]
  },
  {
   "cell_type": "code",
   "execution_count": 287,
   "id": "973e3832-2d14-4541-8e1c-11966537d50e",
   "metadata": {},
   "outputs": [
    {
     "name": "stdout",
     "output_type": "stream",
     "text": [
      "Experiment Name: Custom\n",
      "Cost 2 Play: 2\n",
      "Low Wealth Average: 2888645.94\n",
      "Mid Low Wealth Average: 2890713.0\n",
      "Mid High Wealth Average: 2889294.0\n",
      "High Wealth Average: 0\n",
      "\n",
      "Difference between High and Low: -2888645.94\n",
      "\n",
      "\n",
      "DISREGARDING AGENTS THAT ZEROED\n",
      "Low Wealth Average: 2888645.94\n",
      "Mid Low Wealth Average: 2890713.0\n",
      "Mid High Wealth Average: 2889294.0\n",
      "High Wealth Average: 0\n",
      "\n",
      "Difference between High and Low: -2888645.94\n",
      "\n",
      "\n",
      "ZEROED AGENT COUNTS\n",
      "Total zeroed agents: 0\n",
      "\n",
      "Low zeroed agents: 0\n",
      "Percent Low zeroed agents: 0.0\n",
      "Mid low zeroed agents: 0\n",
      "Percent Mid low zeroed agents: 0.0\n",
      "Mid High zeroed agents: 0\n",
      "Percent Mid high zeroed agents: 0.0\n",
      "High zeroed agents: 0\n",
      "Percent High zeroed agents: 0\n",
      "\n",
      "\n",
      "COOPERATION\n",
      "Number of Games that included Cooperation: 46796442\n",
      "Percentage of games that included a Cooperation: 0.7499141379177724\n",
      "Number of Reward states: 15601496\n",
      "Percentage of games with Reward state: 0.25001435842211195\n",
      "\n",
      "DEFECTION\n",
      "Number of Games that included Defection: 46800904\n",
      "Percentage of games that included a Defection: 0.749985641577888\n",
      "Number of Punishment states: 15605958\n",
      "Percentage of games with Punishment state: 0.2500858620822276\n",
      "\n"
     ]
    }
   ],
   "source": [
    "run_analysis({'Custom': [100,2,6,0]}, [2])"
   ]
  },
  {
   "cell_type": "code",
   "execution_count": 150,
   "id": "d9e56e03-a393-4cd3-ac73-26ead7d0fb8d",
   "metadata": {},
   "outputs": [],
   "source": [
    "################################################"
   ]
  },
  {
   "cell_type": "code",
   "execution_count": 18,
   "id": "5ce51ba5-f085-4384-b6a0-74f0382aef56",
   "metadata": {},
   "outputs": [
    {
     "ename": "NameError",
     "evalue": "name 'outcomes' is not defined",
     "output_type": "error",
     "traceback": [
      "\u001b[0;31m---------------------------------------------------------------------------\u001b[0m",
      "\u001b[0;31mNameError\u001b[0m                                 Traceback (most recent call last)",
      "Cell \u001b[0;32mIn[18], line 2\u001b[0m\n\u001b[1;32m      1\u001b[0m num_of_games_that_contained_a_defection \u001b[38;5;241m=\u001b[39m \u001b[38;5;241m0\u001b[39m\n\u001b[0;32m----> 2\u001b[0m \u001b[38;5;28;01mfor\u001b[39;00m outcome \u001b[38;5;129;01min\u001b[39;00m outcomes:\n\u001b[1;32m      3\u001b[0m     \u001b[38;5;28;01mif\u001b[39;00m \u001b[38;5;129;01mnot\u001b[39;00m outcome \u001b[38;5;241m==\u001b[39m \u001b[38;5;124m'\u001b[39m\u001b[38;5;124mReward\u001b[39m\u001b[38;5;124m'\u001b[39m:\n\u001b[1;32m      4\u001b[0m         num_of_games_that_contained_a_defection \u001b[38;5;241m+\u001b[39m\u001b[38;5;241m=\u001b[39m \u001b[38;5;241m1\u001b[39m\n",
      "\u001b[0;31mNameError\u001b[0m: name 'outcomes' is not defined"
     ]
    }
   ],
   "source": [
    "num_of_games_that_contained_a_defection = 0\n",
    "for outcome in outcomes:\n",
    "    if not outcome == 'Reward':\n",
    "        num_of_games_that_contained_a_defection += 1\n",
    "\n",
    "num_of_games_that_contained_cooperation = 0\n",
    "for outcome in outcomes:\n",
    "    if not outcome == 'Punishment':\n",
    "        num_of_games_that_contained_cooperation += 1\n"
   ]
  },
  {
   "cell_type": "code",
   "execution_count": 930,
   "id": "4679a38f-d75d-4e74-8858-9df7cd43e969",
   "metadata": {},
   "outputs": [
    {
     "data": {
      "text/plain": [
       "0.000684735321086645"
      ]
     },
     "execution_count": 930,
     "metadata": {},
     "output_type": "execute_result"
    }
   ],
   "source": [
    "num_of_games_that_contained_a_defection/game_count"
   ]
  },
  {
   "cell_type": "code",
   "execution_count": 931,
   "id": "2b793cde-fd6d-4e7a-ac29-acd23833bc9e",
   "metadata": {},
   "outputs": [
    {
     "data": {
      "text/plain": [
       "0.9999851293699062"
      ]
     },
     "execution_count": 931,
     "metadata": {},
     "output_type": "execute_result"
    }
   ],
   "source": [
    "num_of_games_that_contained_cooperation/game_count"
   ]
  },
  {
   "cell_type": "code",
   "execution_count": 934,
   "id": "e070f9db-301e-42e7-9002-627e2da094ac",
   "metadata": {},
   "outputs": [],
   "source": [
    "non_zero_agents, non_zero_splits = remove_zeroed_agents(agents, split)"
   ]
  },
  {
   "cell_type": "code",
   "execution_count": 935,
   "id": "a4eb7cae-f910-4c2f-b53a-78fe0a9a7d41",
   "metadata": {},
   "outputs": [
    {
     "data": {
      "text/plain": [
       "[4, 300, 600, 90]"
      ]
     },
     "execution_count": 935,
     "metadata": {},
     "output_type": "execute_result"
    }
   ],
   "source": [
    "non_zero_splits"
   ]
  },
  {
   "cell_type": "code",
   "execution_count": 936,
   "id": "6d489d9f-81ff-4267-9e30-f372215bc78a",
   "metadata": {},
   "outputs": [
    {
     "data": {
      "text/plain": [
       "[10, 300, 600, 90]"
      ]
     },
     "execution_count": 936,
     "metadata": {},
     "output_type": "execute_result"
    }
   ],
   "source": [
    "split"
   ]
  },
  {
   "cell_type": "code",
   "execution_count": 937,
   "id": "fccc6c37-8ef7-493b-b84a-28e98693e3a1",
   "metadata": {},
   "outputs": [],
   "source": [
    "low_wealth_avg,mid_low_wealth_avg,mid_high_wealth_avg,high_wealth_avg = calc_avg_for_each(agents, split)"
   ]
  },
  {
   "cell_type": "code",
   "execution_count": 938,
   "id": "4a46f9fb-1133-42b3-bedb-4abac7c9ad13",
   "metadata": {},
   "outputs": [
    {
     "data": {
      "text/plain": [
       "(26013.13999995594, 19528.551333300235, 16.0, 25.0)"
      ]
     },
     "execution_count": 938,
     "metadata": {},
     "output_type": "execute_result"
    }
   ],
   "source": [
    "low_wealth_avg,mid_low_wealth_avg,mid_high_wealth_avg,high_wealth_avg"
   ]
  },
  {
   "cell_type": "code",
   "execution_count": 939,
   "id": "5e6414ca-cf0a-4cd6-af96-f72680a832b0",
   "metadata": {},
   "outputs": [],
   "source": [
    "low_wealth_avg_no_zeros,mid_low_wealth_avg_no_zeros,mid_high_wealth_avg_no_zeros,high_wealth_avg_no_zeros = calc_avg_for_each(non_zero_agents, non_zero_splits)"
   ]
  },
  {
   "cell_type": "code",
   "execution_count": 940,
   "id": "96de0902-562c-41f3-b032-60024d0ef587",
   "metadata": {},
   "outputs": [
    {
     "data": {
      "text/plain": [
       "(65033.92499988985, 19528.551333300235, 16.0, 25.0)"
      ]
     },
     "execution_count": 940,
     "metadata": {},
     "output_type": "execute_result"
    }
   ],
   "source": [
    "low_wealth_avg_no_zeros,mid_low_wealth_avg_no_zeros,mid_high_wealth_avg_no_zeros,high_wealth_avg_no_zeros"
   ]
  },
  {
   "cell_type": "code",
   "execution_count": 941,
   "id": "43b60a5b-eb43-4cfd-8f19-355392382436",
   "metadata": {},
   "outputs": [
    {
     "data": {
      "text/plain": [
       "-25988.13999995594"
      ]
     },
     "execution_count": 941,
     "metadata": {},
     "output_type": "execute_result"
    }
   ],
   "source": [
    "#Zeroed agents gap\n",
    "high_wealth_avg-low_wealth_avg"
   ]
  },
  {
   "cell_type": "code",
   "execution_count": 942,
   "id": "19b02b3f-d26c-41eb-9265-942405a6341b",
   "metadata": {},
   "outputs": [
    {
     "data": {
      "text/plain": [
       "-65008.92499988985"
      ]
     },
     "execution_count": 942,
     "metadata": {},
     "output_type": "execute_result"
    }
   ],
   "source": [
    "#Non-zeroed agents gap\n",
    "high_wealth_avg_no_zeros-low_wealth_avg_no_zeros"
   ]
  },
  {
   "cell_type": "code",
   "execution_count": null,
   "id": "ea90b2c1-d1bf-42d4-902d-38362edf2869",
   "metadata": {},
   "outputs": [],
   "source": []
  },
  {
   "cell_type": "code",
   "execution_count": null,
   "id": "fc570dbd-2cd3-43bd-b470-c25567c243dc",
   "metadata": {},
   "outputs": [],
   "source": [
    "################################"
   ]
  },
  {
   "cell_type": "code",
   "execution_count": 606,
   "id": "0589a950-c4fe-4148-b3f0-3c9ec21931a5",
   "metadata": {},
   "outputs": [
    {
     "name": "stdout",
     "output_type": "stream",
     "text": [
      "95987.3\n"
     ]
    }
   ],
   "source": [
    "mid_low_wealth_avg = 0\n",
    "for agent in agents[split[0]:sum(split[:2])]:\n",
    "    mid_low_wealth_avg += agent.current_wealth\n",
    "mid_low_wealth_avg = mid_low_wealth_avg/(sum(split[:2])-sum(split[:1]))\n",
    "print(mid_low_wealth_avg)"
   ]
  },
  {
   "cell_type": "code",
   "execution_count": 601,
   "id": "dff1bb6a-0131-4c9a-a4a5-9604e1edc468",
   "metadata": {},
   "outputs": [
    {
     "name": "stdout",
     "output_type": "stream",
     "text": [
      "96001.76\n"
     ]
    }
   ],
   "source": [
    "mid_high_wealth_avg = 0\n",
    "for agent in agents[sum(split[:2]):sum(split[:3])]:\n",
    "    mid_high_wealth_avg += agent.current_wealth\n",
    "mid_high_wealth_avg = mid_high_wealth_avg/(sum(split[:3])-sum(split[:2]))\n",
    "print(mid_high_wealth_avg)"
   ]
  },
  {
   "cell_type": "code",
   "execution_count": 605,
   "id": "68db4a40-a631-409d-ac8f-b8359366103e",
   "metadata": {},
   "outputs": [
    {
     "name": "stdout",
     "output_type": "stream",
     "text": [
      "96012.2\n"
     ]
    }
   ],
   "source": [
    "high_wealth_avg = 0\n",
    "for agent in agents[sum(split[:3]):]:\n",
    "    high_wealth_avg += agent.current_wealth\n",
    "high_wealth_avg = high_wealth_avg/(sum(split)-sum(split[:3]))\n",
    "print(high_wealth_avg)"
   ]
  },
  {
   "cell_type": "code",
   "execution_count": null,
   "id": "c2cfe231-9820-407b-8319-8fe72d11dc43",
   "metadata": {},
   "outputs": [],
   "source": []
  },
  {
   "cell_type": "code",
   "execution_count": 378,
   "id": "1fafc780-91c0-4c4b-b6fb-3691ae5d9662",
   "metadata": {},
   "outputs": [
    {
     "data": {
      "text/plain": [
       "710.2999999999993"
      ]
     },
     "execution_count": 378,
     "metadata": {},
     "output_type": "execute_result"
    }
   ],
   "source": [
    "19628.0-18917.7"
   ]
  },
  {
   "cell_type": "code",
   "execution_count": 379,
   "id": "d165b1d8-d959-49bb-ae4a-0af0a1c75398",
   "metadata": {},
   "outputs": [
    {
     "data": {
      "text/plain": [
       "21"
      ]
     },
     "execution_count": 379,
     "metadata": {},
     "output_type": "execute_result"
    }
   ],
   "source": [
    "25-4"
   ]
  },
  {
   "cell_type": "code",
   "execution_count": null,
   "id": "eacd160b-d1ec-4f8f-bd57-475f9aac71b6",
   "metadata": {},
   "outputs": [],
   "source": [
    "#For a 30,59,10,1 split\n",
    "#The difference between low and high is 710.2999999999993\n",
    "#And the initial difference is 21"
   ]
  },
  {
   "cell_type": "code",
   "execution_count": 388,
   "id": "13f57549-80a0-4fb9-a2c5-a31875bb7d45",
   "metadata": {},
   "outputs": [
    {
     "data": {
      "text/plain": [
       "1598.3199999999997"
      ]
     },
     "execution_count": 388,
     "metadata": {},
     "output_type": "execute_result"
    }
   ],
   "source": [
    "19421.64-17823.32"
   ]
  },
  {
   "cell_type": "code",
   "execution_count": null,
   "id": "676aa834-bbaf-4ec9-a2a6-607591230de3",
   "metadata": {},
   "outputs": [],
   "source": [
    "#For a 25,25,25,25 split\n",
    "#The difference between low and high is 1598\n",
    "#And the initial difference is 21"
   ]
  },
  {
   "cell_type": "code",
   "execution_count": 397,
   "id": "9882fe39-5d45-4b77-a4e8-56dac4b08c6a",
   "metadata": {},
   "outputs": [
    {
     "data": {
      "text/plain": [
       "34.0"
      ]
     },
     "execution_count": 397,
     "metadata": {},
     "output_type": "execute_result"
    }
   ],
   "source": [
    "19815-19781.0"
   ]
  },
  {
   "cell_type": "code",
   "execution_count": null,
   "id": "12120a06-4a28-457c-bd86-c9288b9c1401",
   "metadata": {},
   "outputs": [],
   "source": [
    "#For a 1,10,59,30 split\n",
    "#The difference between low and high is 34"
   ]
  },
  {
   "cell_type": "code",
   "execution_count": 405,
   "id": "adc4a161-e2a1-4233-b14f-30184baedbe0",
   "metadata": {},
   "outputs": [
    {
     "data": {
      "text/plain": [
       "1582.3877551020414"
      ]
     },
     "execution_count": 405,
     "metadata": {},
     "output_type": "execute_result"
    }
   ],
   "source": [
    "19014.163265306124-17431.775510204083"
   ]
  },
  {
   "cell_type": "code",
   "execution_count": null,
   "id": "1d26a2b3-9448-4082-8d9e-b2a4a94da6e2",
   "metadata": {},
   "outputs": [],
   "source": [
    "#For a 49,1,1,49 split\n",
    "#The difference between low and high is 1582.3877551020414"
   ]
  },
  {
   "cell_type": "code",
   "execution_count": 413,
   "id": "aa074eb9-196b-4b9a-b4d2-90f96c41ebeb",
   "metadata": {},
   "outputs": [
    {
     "data": {
      "text/plain": [
       "88.0"
      ]
     },
     "execution_count": 413,
     "metadata": {},
     "output_type": "execute_result"
    }
   ],
   "source": [
    "19827.0-19739.0"
   ]
  },
  {
   "cell_type": "code",
   "execution_count": null,
   "id": "102a7e68-e008-45ae-9e2f-b28db24a55a1",
   "metadata": {},
   "outputs": [],
   "source": [
    "#Fpr a 1,49,49,1 split\n",
    "#The difference between low and high is 88"
   ]
  },
  {
   "cell_type": "code",
   "execution_count": 421,
   "id": "d7f1e6f2-f6ef-45a8-866b-34d8d9c23089",
   "metadata": {},
   "outputs": [
    {
     "data": {
      "text/plain": [
       "31.70833333333212"
      ]
     },
     "execution_count": 421,
     "metadata": {},
     "output_type": "execute_result"
    }
   ],
   "source": [
    "19814.208333333332-19782.5"
   ]
  },
  {
   "cell_type": "code",
   "execution_count": null,
   "id": "799bab5b-c2bd-4c96-b529-32c16e3ddc13",
   "metadata": {},
   "outputs": [],
   "source": [
    "#For a 2,2,48,48 split\n",
    "#The difference between low and high is 31.70833333333212"
   ]
  },
  {
   "cell_type": "code",
   "execution_count": 429,
   "id": "e14070de-dd90-44f4-825e-85a1d216b1c9",
   "metadata": {},
   "outputs": [
    {
     "data": {
      "text/plain": [
       "20.021276595743984"
      ]
     },
     "execution_count": 429,
     "metadata": {},
     "output_type": "execute_result"
    }
   ],
   "source": [
    "19811.521276595744-19791.5"
   ]
  },
  {
   "cell_type": "code",
   "execution_count": null,
   "id": "c2325e38-27e5-46c3-b75f-21d604a8a297",
   "metadata": {},
   "outputs": [],
   "source": [
    "#For a 2,2,2,94 split\n",
    "#The difference between low and high is 20.021276595743984"
   ]
  },
  {
   "cell_type": "code",
   "execution_count": 436,
   "id": "47373a0a-9dc2-44e0-9d84-7bec6943c41c",
   "metadata": {},
   "outputs": [
    {
     "data": {
      "text/plain": [
       "1222.1702127659591"
      ]
     },
     "execution_count": 436,
     "metadata": {},
     "output_type": "execute_result"
    }
   ],
   "source": [
    "18621.5-17399.32978723404"
   ]
  },
  {
   "cell_type": "code",
   "execution_count": null,
   "id": "600b874e-e8a9-4d5c-80ab-4ded98be93c2",
   "metadata": {},
   "outputs": [],
   "source": [
    "#For a 94,2,2,2 split\n",
    "#The difference between low and high is 1222.1702127659591"
   ]
  },
  {
   "cell_type": "code",
   "execution_count": null,
   "id": "541c5943-318c-430d-af9c-85f284b30ae4",
   "metadata": {},
   "outputs": [],
   "source": [
    "#########################################\n",
    "#########TEST 2##########################\n",
    "#########################################"
   ]
  },
  {
   "cell_type": "code",
   "execution_count": null,
   "id": "3763852d-63da-4b67-9c86-ca877be803be",
   "metadata": {},
   "outputs": [],
   "source": [
    "def run_game(agents, game):\n",
    "    agent_indices = list(range(len(agents)))\n",
    "    random.shuffle(agent_indices)\n",
    "\n",
    "    "
   ]
  }
 ],
 "metadata": {
  "kernelspec": {
   "display_name": "Python 3 (ipykernel)",
   "language": "python",
   "name": "python3"
  },
  "language_info": {
   "codemirror_mode": {
    "name": "ipython",
    "version": 3
   },
   "file_extension": ".py",
   "mimetype": "text/x-python",
   "name": "python",
   "nbconvert_exporter": "python",
   "pygments_lexer": "ipython3",
   "version": "3.11.5"
  }
 },
 "nbformat": 4,
 "nbformat_minor": 5
}
